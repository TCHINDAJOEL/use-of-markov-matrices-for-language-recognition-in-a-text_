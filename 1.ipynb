{
 "cells": [
  {
   "cell_type": "markdown",
   "metadata": {},
   "source": [
    "#Avant de commencer on va faire une iportation des librairie a utiliser dans ce code"
   ]
  },
  {
   "cell_type": "code",
   "execution_count": 10,
   "metadata": {},
   "outputs": [],
   "source": [
    "import numpy as np\n",
    "import matplotlib.pyplot as plt\n",
    "from sympy import Matrix,init_printing\n",
    "from IPython.display import display\n",
    "from keras import models, layers"
   ]
  },
  {
   "cell_type": "code",
   "execution_count": 11,
   "metadata": {},
   "outputs": [],
   "source": [
    "#ici on va init le print pour sympy\n",
    "init_printing()"
   ]
  },
  {
   "cell_type": "code",
   "execution_count": 5,
   "metadata": {},
   "outputs": [
    {
     "name": "stdout",
     "output_type": "stream",
     "text": [
      "voici la matrice A\n"
     ]
    },
    {
     "data": {
      "text/latex": [
       "$\\displaystyle \\left[\\begin{matrix}1.0 & 2.0 & 1.0 & 9.0\\\\3.0 & 4.0 & 5.0 & 2.0\\\\2.0 & 4.0 & 6.0 & 7.0\\\\1.0 & 3.0 & 1.0 & 6.0\\end{matrix}\\right]$"
      ],
      "text/plain": [
       "⎡1.0  2.0  1.0  9.0⎤\n",
       "⎢                  ⎥\n",
       "⎢3.0  4.0  5.0  2.0⎥\n",
       "⎢                  ⎥\n",
       "⎢2.0  4.0  6.0  7.0⎥\n",
       "⎢                  ⎥\n",
       "⎣1.0  3.0  1.0  6.0⎦"
      ]
     },
     "metadata": {},
     "output_type": "display_data"
    }
   ],
   "source": [
    "A = np.array([[1,2,1,9],[3,4,5,2],[2,4,6,7],[1,3,1,6]],dtype=float)\n",
    "print(\"voici la matrice A\")\n",
    "display(Matrix(A))"
   ]
  },
  {
   "cell_type": "code",
   "execution_count": 13,
   "metadata": {},
   "outputs": [
    {
     "name": "stderr",
     "output_type": "stream",
     "text": [
      "/home/tchinda/TP3il/.venv/lib/python3.12/site-packages/keras/src/layers/core/dense.py:87: UserWarning: Do not pass an `input_shape`/`input_dim` argument to a layer. When using Sequential models, prefer using an `Input(shape)` object as the first layer in the model instead.\n",
      "  super().__init__(activity_regularizer=activity_regularizer, **kwargs)\n"
     ]
    }
   ],
   "source": [
    "network = models.Sequential()\n",
    "network.add(layers.Dense(3, activation='relu', input_shape=(4,)))    # 4 entrées, 3 neurones\n"
   ]
  }
 ],
 "metadata": {
  "kernelspec": {
   "display_name": ".venv",
   "language": "python",
   "name": "python3"
  },
  "language_info": {
   "codemirror_mode": {
    "name": "ipython",
    "version": 3
   },
   "file_extension": ".py",
   "mimetype": "text/x-python",
   "name": "python",
   "nbconvert_exporter": "python",
   "pygments_lexer": "ipython3",
   "version": "3.12.3"
  }
 },
 "nbformat": 4,
 "nbformat_minor": 2
}
